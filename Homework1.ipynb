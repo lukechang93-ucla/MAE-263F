{
  "nbformat": 4,
  "nbformat_minor": 0,
  "metadata": {
    "colab": {
      "provenance": [],
      "include_colab_link": true
    },
    "kernelspec": {
      "name": "python3",
      "display_name": "Python 3"
    },
    "language_info": {
      "name": "python"
    }
  },
  "cells": [
    {
      "cell_type": "markdown",
      "metadata": {
        "id": "view-in-github",
        "colab_type": "text"
      },
      "source": [
        "<a href=\"https://colab.research.google.com/github/lukechang93-ucla/MAE-263F/blob/main/Homework1.ipynb\" target=\"_parent\"><img src=\"https://colab.research.google.com/assets/colab-badge.svg\" alt=\"Open In Colab\"/></a>"
      ]
    },
    {
      "cell_type": "code",
      "source": [
        "import numpy as np\n",
        "import matplotlib.pyplot as plt"
      ],
      "metadata": {
        "id": "OJjLxTogLx0l"
      },
      "execution_count": 36,
      "outputs": []
    },
    {
      "cell_type": "markdown",
      "source": [
        "# Define Gradients and Hessians"
      ],
      "metadata": {
        "id": "b655tWVnOgJv"
      }
    },
    {
      "cell_type": "code",
      "source": [
        "def gradEs(xk, yk, xkp1, ykp1, l_k, k):\n",
        "    \"\"\"\n",
        "    Calculate the gradient of the stretching energy with respect to the coordinates.\n",
        "\n",
        "    Args:\n",
        "    - xk (float): x coordinate of the current point\n",
        "    - yk (float): y coordinate of the current point\n",
        "    - xkp1 (float): x coordinate of the next point\n",
        "    - ykp1 (float): y coordinate of the next point\n",
        "    - l_k (float): reference length\n",
        "    - EA (float): elastic modulus\n",
        "\n",
        "    Returns:\n",
        "    - F (np.array): Gradient array\n",
        "    \"\"\"\n",
        "    F = np.zeros(4)\n",
        "    F[0] = -(1.0 - np.sqrt((xkp1 - xk)**2.0 + (ykp1 - yk)**2.0) / l_k) * ((xkp1 - xk)**2.0 + (ykp1 - yk)**2.0)**(-0.5) / l_k * (-2.0 * xkp1 + 2.0 * xk)\n",
        "    F[1] = -(0.1e1 - np.sqrt((xkp1 - xk) ** 2 + (ykp1 - yk) ** 2) / l_k) * ((xkp1 - xk) ** 2 + (ykp1 - yk) ** 2) ** (-0.1e1 / 0.2e1) / l_k * (-0.2e1 * ykp1 + 0.2e1 * yk)\n",
        "    F[2] = -(0.1e1 - np.sqrt((xkp1 - xk) ** 2 + (ykp1 - yk) ** 2) / l_k) * ((xkp1 - xk) ** 2 + (ykp1 - yk) ** 2) ** (-0.1e1 / 0.2e1) / l_k * (0.2e1 * xkp1 - 0.2e1 * xk)\n",
        "    F[3] = -(0.1e1 - np.sqrt((xkp1 - xk) ** 2 + (ykp1 - yk) ** 2) / l_k) * ((xkp1 - xk) ** 2 + (ykp1 - yk) ** 2) ** (-0.1e1 / 0.2e1) / l_k * (0.2e1 * ykp1 - 0.2e1 * yk)\n",
        "\n",
        "    F = 0.5 * k * l_k * F  # Scale by k and l_k\n",
        "\n",
        "    return F"
      ],
      "metadata": {
        "id": "5vTo-bAVLt6m"
      },
      "execution_count": 37,
      "outputs": []
    },
    {
      "cell_type": "code",
      "source": [
        "def hessEs(xk, yk, xkp1, ykp1, l_k, k):\n",
        "    \"\"\"\n",
        "    This function returns the 4x4 Hessian of the stretching energy E_k^s with\n",
        "    respect to x_k, y_k, x_{k+1}, and y_{k+1}.\n",
        "    \"\"\"\n",
        "    J = np.zeros((4, 4))  # Initialize the Hessian matrix\n",
        "    J11 = (1 / ((xkp1 - xk) ** 2 + (ykp1 - yk) ** 2) / l_k ** 2 * (-2 * xkp1 + 2 * xk) ** 2) / 0.2e1 + (0.1e1 - np.sqrt(((xkp1 - xk) ** 2 + (ykp1 - yk) ** 2)) / l_k) * (((xkp1 - xk) ** 2 + (ykp1 - yk) ** 2) ** (-0.3e1 / 0.2e1)) / l_k * ((-2 * xkp1 + 2 * xk) ** 2) / 0.2e1 - 0.2e1 * (0.1e1 - np.sqrt(((xkp1 - xk) ** 2 + (ykp1 - yk) ** 2)) / l_k) * (((xkp1 - xk) ** 2 + (ykp1 - yk) ** 2) ** (-0.1e1 / 0.2e1)) / l_k\n",
        "    J12 = (1 / ((xkp1 - xk) ** 2 + (ykp1 - yk) ** 2) / l_k ** 2 * (-2 * ykp1 + 2 * yk) * (-2 * xkp1 + 2 * xk)) / 0.2e1 + (0.1e1 - np.sqrt(((xkp1 - xk) ** 2 + (ykp1 - yk) ** 2)) / l_k) * (((xkp1 - xk) ** 2 + (ykp1 - yk) ** 2) ** (-0.3e1 / 0.2e1)) / l_k * (-2 * xkp1 + 2 * xk) * (-2 * ykp1 + 2 * yk) / 0.2e1\n",
        "    J13 = (1 / ((xkp1 - xk) ** 2 + (ykp1 - yk) ** 2) / l_k ** 2 * (2 * xkp1 - 2 * xk) * (-2 * xkp1 + 2 * xk)) / 0.2e1 + (0.1e1 - np.sqrt(((xkp1 - xk) ** 2 + (ykp1 - yk) ** 2)) / l_k) * (((xkp1 - xk) ** 2 + (ykp1 - yk) ** 2) ** (-0.3e1 / 0.2e1)) / l_k * (-2 * xkp1 + 2 * xk) * (2 * xkp1 - 2 * xk) / 0.2e1 + 0.2e1 * (0.1e1 - np.sqrt(((xkp1 - xk) ** 2 + (ykp1 - yk) ** 2)) / l_k) * (((xkp1 - xk) ** 2 + (ykp1 - yk) ** 2) ** (-0.1e1 / 0.2e1)) / l_k\n",
        "    J14 = (1 / ((xkp1 - xk) ** 2 + (ykp1 - yk) ** 2) / l_k ** 2 * (2 * ykp1 - 2 * yk) * (-2 * xkp1 + 2 * xk)) / 0.2e1 + (0.1e1 - np.sqrt(((xkp1 - xk) ** 2 + (ykp1 - yk) ** 2)) / l_k) * (((xkp1 - xk) ** 2 + (ykp1 - yk) ** 2) ** (-0.3e1 / 0.2e1)) / l_k * (-2 * xkp1 + 2 * xk) * (2 * ykp1 - 2 * yk) / 0.2e1\n",
        "    J22 = (1 / ((xkp1 - xk) ** 2 + (ykp1 - yk) ** 2) / l_k ** 2 * (-2 * ykp1 + 2 * yk) ** 2) / 0.2e1 + (0.1e1 - np.sqrt(((xkp1 - xk) ** 2 + (ykp1 - yk) ** 2)) / l_k) * (((xkp1 - xk) ** 2 + (ykp1 - yk) ** 2) ** (-0.3e1 / 0.2e1)) / l_k * ((-2 * ykp1 + 2 * yk) ** 2) / 0.2e1 - 0.2e1 * (0.1e1 - np.sqrt(((xkp1 - xk) ** 2 + (ykp1 - yk) ** 2)) / l_k) * (((xkp1 - xk) ** 2 + (ykp1 - yk) ** 2) ** (-0.1e1 / 0.2e1)) / l_k\n",
        "    J23 = (1 / ((xkp1 - xk) ** 2 + (ykp1 - yk) ** 2) / l_k ** 2 * (2 * xkp1 - 2 * xk) * (-2 * ykp1 + 2 * yk)) / 0.2e1 + (0.1e1 - np.sqrt(((xkp1 - xk) ** 2 + (ykp1 - yk) ** 2)) / l_k) * (((xkp1 - xk) ** 2 + (ykp1 - yk) ** 2) ** (-0.3e1 / 0.2e1)) / l_k * (-2 * ykp1 + 2 * yk) * (2 * xkp1 - 2 * xk) / 0.2e1\n",
        "    J24 = (1 / ((xkp1 - xk) ** 2 + (ykp1 - yk) ** 2) / l_k ** 2 * (2 * ykp1 - 2 * yk) * (-2 * ykp1 + 2 * yk)) / 0.2e1 + (0.1e1 - np.sqrt(((xkp1 - xk) ** 2 + (ykp1 - yk) ** 2)) / l_k) * (((xkp1 - xk) ** 2 + (ykp1 - yk) ** 2) ** (-0.3e1 / 0.2e1)) / l_k * (-2 * ykp1 + 2 * yk) * (2 * ykp1 - 2 * yk) / 0.2e1 + 0.2e1 * (0.1e1 - np.sqrt(((xkp1 - xk) ** 2 + (ykp1 - yk) ** 2)) / l_k) * (((xkp1 - xk) ** 2 + (ykp1 - yk) ** 2) ** (-0.1e1 / 0.2e1)) / l_k\n",
        "    J33 = (1 / ((xkp1 - xk) ** 2 + (ykp1 - yk) ** 2) / l_k ** 2 * (2 * xkp1 - 2 * xk) ** 2) / 0.2e1 + (0.1e1 - np.sqrt(((xkp1 - xk) ** 2 + (ykp1 - yk) ** 2)) / l_k) * (((xkp1 - xk) ** 2 + (ykp1 - yk) ** 2) ** (-0.3e1 / 0.2e1)) / l_k * ((2 * xkp1 - 2 * xk) ** 2) / 0.2e1 - 0.2e1 * (0.1e1 - np.sqrt(((xkp1 - xk) ** 2 + (ykp1 - yk) ** 2)) / l_k) * (((xkp1 - xk) ** 2 + (ykp1 - yk) ** 2) ** (-0.1e1 / 0.2e1)) / l_k\n",
        "    J34 = (1 / ((xkp1 - xk) ** 2 + (ykp1 - yk) ** 2) / l_k ** 2 * (2 * ykp1 - 2 * yk) * (2 * xkp1 - 2 * xk)) / 0.2e1 + (0.1e1 - np.sqrt(((xkp1 - xk) ** 2 + (ykp1 - yk) ** 2)) / l_k) * (((xkp1 - xk) ** 2 + (ykp1 - yk) ** 2) ** (-0.3e1 / 0.2e1)) / l_k * (2 * xkp1 - 2 * xk) * (2 * ykp1 - 2 * yk) / 0.2e1\n",
        "    J44 = (1 / ((xkp1 - xk) ** 2 + (ykp1 - yk) ** 2) / l_k ** 2 * (2 * ykp1 - 2 * yk) ** 2) / 0.2e1 + (0.1e1 - np.sqrt(((xkp1 - xk) ** 2 + (ykp1 - yk) ** 2)) / l_k) * (((xkp1 - xk) ** 2 + (ykp1 - yk) ** 2) ** (-0.3e1 / 0.2e1)) / l_k * ((2 * ykp1 - 2 * yk) ** 2) / 0.2e1 - 0.2e1 * (0.1e1 - np.sqrt(((xkp1 - xk) ** 2 + (ykp1 - yk) ** 2)) / l_k) * (((xkp1 - xk) ** 2 + (ykp1 - yk) ** 2) ** (-0.1e1 / 0.2e1)) / l_k\n",
        "\n",
        "    J = np.array([[J11, J12, J13, J14],\n",
        "                   [J12, J22, J23, J24],\n",
        "                   [J13, J23, J33, J34],\n",
        "                   [J14, J24, J34, J44]])\n",
        "\n",
        "    J *= 0.5 * k * l_k\n",
        "\n",
        "    return J"
      ],
      "metadata": {
        "id": "Hl254AJALv4e"
      },
      "execution_count": 38,
      "outputs": []
    },
    {
      "cell_type": "markdown",
      "source": [
        "# Write Nodes and Properties to Files"
      ],
      "metadata": {
        "id": "iO1ZCUrRNGCi"
      }
    },
    {
      "cell_type": "code",
      "metadata": {
        "colab": {
          "base_uri": "https://localhost:8080/"
        },
        "id": "4c0e98d8",
        "outputId": "e7f7aea0-0bf9-4d38-b60c-30f3e425ffa6"
      },
      "source": [
        "%%writefile nodes.txt\n",
        "0, 0\n",
        "1, 0\n",
        "2, 0\n",
        "1, -1"
      ],
      "execution_count": 39,
      "outputs": [
        {
          "output_type": "stream",
          "name": "stdout",
          "text": [
            "Overwriting nodes.txt\n"
          ]
        }
      ]
    },
    {
      "cell_type": "code",
      "source": [
        "%%writefile springs.txt\n",
        "0, 1, 10\n",
        "1, 2, 20\n",
        "0, 3, 5\n",
        "2, 3, 5"
      ],
      "metadata": {
        "colab": {
          "base_uri": "https://localhost:8080/"
        },
        "id": "JonazYMRNoa2",
        "outputId": "0105dec3-35d3-4c8c-f906-b09c88b5f89f"
      },
      "execution_count": 40,
      "outputs": [
        {
          "output_type": "stream",
          "name": "stdout",
          "text": [
            "Overwriting springs.txt\n"
          ]
        }
      ]
    },
    {
      "cell_type": "markdown",
      "source": [
        "# Read the nodes, springs, and properties"
      ],
      "metadata": {
        "id": "plt9vgHXN5FM"
      }
    },
    {
      "cell_type": "code",
      "metadata": {
        "colab": {
          "base_uri": "https://localhost:8080/",
          "height": 104
        },
        "id": "cd722530",
        "outputId": "9f6a54e5-a8d3-44b7-96c2-4ff54b434afe"
      },
      "source": [
        "nodes_file_path = 'nodes.txt'\n",
        "node_coordinates = []\n",
        "\n",
        "try:\n",
        "    with open(nodes_file_path, 'r') as f:\n",
        "        for line in f:\n",
        "            # Split each line by comma and remove leading/trailing whitespace\n",
        "            parts = [part.strip() for part in line.split(',')]\n",
        "            # Assuming the format is node number, x, y\n",
        "            # We only need x and y, which are the second and third elements (index 1 and 2)\n",
        "            if len(parts) == 2:\n",
        "                try:\n",
        "                    x = float(parts[0])\n",
        "                    y = float(parts[1])\n",
        "                    node_coordinates.append([x, y])\n",
        "                except ValueError:\n",
        "                    print(f\"Skipping line due to non-numeric coordinates: {line.strip()}\")\n",
        "            else:\n",
        "                print(f\"Skipping line due to incorrect format: {line.strip()}\")\n",
        "\n",
        "    # Convert the list of coordinates to a NumPy array\n",
        "    node_matrix = np.array(node_coordinates)\n",
        "\n",
        "    print(\"Node coordinates successfully loaded into a numpy matrix.\")\n",
        "    display(node_matrix)\n",
        "\n",
        "except FileNotFoundError:\n",
        "    print(f\"Error: The file '{nodes_file_path}' was not found.\")\n",
        "except Exception as e:\n",
        "    print(f\"An error occurred: {e}\")"
      ],
      "execution_count": 41,
      "outputs": [
        {
          "output_type": "stream",
          "name": "stdout",
          "text": [
            "Node coordinates successfully loaded into a numpy matrix.\n"
          ]
        },
        {
          "output_type": "display_data",
          "data": {
            "text/plain": [
              "array([[ 0.,  0.],\n",
              "       [ 1.,  0.],\n",
              "       [ 2.,  0.],\n",
              "       [ 1., -1.]])"
            ]
          },
          "metadata": {}
        }
      ]
    },
    {
      "cell_type": "code",
      "source": [
        "springs_file_path = 'springs.txt'\n",
        "index_info = []\n",
        "stiffness_info = []\n",
        "\n",
        "try:\n",
        "    with open(springs_file_path, 'r') as f:\n",
        "        for line in f:\n",
        "            # Split each line by comma and remove leading/trailing whitespace\n",
        "            parts = [part.strip() for part in line.split(',')]\n",
        "            # Assuming the format is spring number, first node, second node, stiffness\n",
        "            if len(parts) == 3:\n",
        "                try:\n",
        "                    first_node_index = int(parts[0])\n",
        "                    second_node_index = int(parts[1])\n",
        "                    stiffness = float(parts[2])\n",
        "                    index_info.append([2*first_node_index, 2*first_node_index+1, 2*second_node_index, 2*second_node_index+1])\n",
        "                    stiffness_info.append(stiffness)\n",
        "                except ValueError:\n",
        "                    print(f\"Skipping line due to non-numeric coordinates: {line.strip()}\")\n",
        "            else:\n",
        "                print(f\"Skipping line due to incorrect format: {line.strip()}\")\n",
        "\n",
        "    # Convert the list of coordinates to a NumPy array\n",
        "    index_matrix = np.array(index_info)\n",
        "    stiffness_matrix = np.array(stiffness_info)\n",
        "\n",
        "    print(\"Spring indices successfully loaded into a numpy matrix.\")\n",
        "    display(index_matrix)\n",
        "\n",
        "    print(\"Spring stiffnesses successfully loaded into a numpy matrix.\")\n",
        "    display(stiffness_matrix)\n",
        "\n",
        "except FileNotFoundError:\n",
        "    print(f\"Error: The file '{springs_file_path}' was not found.\")\n",
        "except Exception as e:\n",
        "    print(f\"An error occurred: {e}\")"
      ],
      "metadata": {
        "colab": {
          "base_uri": "https://localhost:8080/",
          "height": 139
        },
        "id": "4ax9XxLbPfN5",
        "outputId": "f7d93f71-4164-4d33-a729-da032b9fcee6"
      },
      "execution_count": 42,
      "outputs": [
        {
          "output_type": "stream",
          "name": "stdout",
          "text": [
            "Spring indices successfully loaded into a numpy matrix.\n"
          ]
        },
        {
          "output_type": "display_data",
          "data": {
            "text/plain": [
              "array([[0, 1, 2, 3],\n",
              "       [2, 3, 4, 5],\n",
              "       [0, 1, 6, 7],\n",
              "       [4, 5, 6, 7]])"
            ]
          },
          "metadata": {}
        },
        {
          "output_type": "stream",
          "name": "stdout",
          "text": [
            "Spring stiffnesses successfully loaded into a numpy matrix.\n"
          ]
        },
        {
          "output_type": "display_data",
          "data": {
            "text/plain": [
              "array([10., 20.,  5.,  5.])"
            ]
          },
          "metadata": {}
        }
      ]
    },
    {
      "cell_type": "markdown",
      "source": [
        "# Equations of Motion and Jacobian"
      ],
      "metadata": {
        "id": "WpMAjINGRSSz"
      }
    },
    {
      "cell_type": "code",
      "source": [
        "def getExternalForce(m):\n",
        "  W = np.zeros_like(m)\n",
        "  for i in range(len(m) // 2): # Go over every node. Size of m is 2 times node number\n",
        "    W[2 * i] = 0.0 # x-coordinate\n",
        "    W[2 * i + 1] = -9.81 * m[2 * i + 1] # y-coordinate\n",
        "  return W"
      ],
      "metadata": {
        "id": "sR77AnUBT1aq"
      },
      "execution_count": 43,
      "outputs": []
    },
    {
      "cell_type": "code",
      "source": [
        "def getForceJacobian(x_new, x_old, u_old, stiffness_matrix, index_matrix, m, dt, l_k):\n",
        "  ndof = x_new.shape[0] # Number of DOFs\n",
        "\n",
        "  # Inertia\n",
        "  f_inertia = m / dt * ((x_new - x_old) / dt - u_old)\n",
        "  J_inertia = np.diag(m) / dt ** 2\n",
        "\n",
        "  # Spring\n",
        "  f_spring = np.zeros(ndof)\n",
        "  J_spring = np.zeros((ndof, ndof))\n",
        "  # Loop over each spring\n",
        "  for i in range(stiffness_matrix.shape[0]):\n",
        "    ind = index_matrix[i].astype(int)\n",
        "    xi = x_new[ind[0]]\n",
        "    yi = x_new[ind[1]]\n",
        "    xj = x_new[ind[2]]\n",
        "    yj = x_new[ind[3]]\n",
        "    stiffness = stiffness_matrix[i]\n",
        "    dF = gradEs(xi, yi, xj, yj, l_k[i], stiffness)\n",
        "    dJ = hessEs(xi, yi, xj, yj, l_k[i], stiffness)\n",
        "    f_spring[ind] += dF\n",
        "    J_spring[np.ix_(ind,ind)] += dJ\n",
        "\n",
        "  # External force\n",
        "  f_ext = getExternalForce(m)\n",
        "  J_ext = np.zeros((ndof, ndof))\n",
        "\n",
        "  f = f_inertia + f_spring - f_ext\n",
        "  J = J_inertia + J_spring - J_ext\n",
        "\n",
        "  return f, J"
      ],
      "metadata": {
        "id": "Be-TfMamSMrz"
      },
      "execution_count": 44,
      "outputs": []
    },
    {
      "cell_type": "markdown",
      "source": [
        "# Integrator"
      ],
      "metadata": {
        "id": "lOaFqt9KVNlZ"
      }
    },
    {
      "cell_type": "code",
      "source": [
        "def myInt(t_new, x_old, u_old, free_DOF, stiffness_matrix, index_matrix, m, dt, l_k):\n",
        "  # t_new is optional for debugging\n",
        "  # It should calculate x_new and u_new knowing old positions and velocities\n",
        "  # free_DOF is a vector containing the indices of free variables (not boundary)\n",
        "\n",
        "  # Guess\n",
        "  x_new = x_old.copy()\n",
        "\n",
        "  eps = 1.0e-6 # not a good practice -- tolerance\n",
        "  err = 10 * eps\n",
        "  # Newton - Raphson\n",
        "  while err > eps:\n",
        "    f, J = getForceJacobian(x_new, x_old, u_old, stiffness_matrix, index_matrix, m, dt, l_k)\n",
        "\n",
        "    # Extract free DOFs\n",
        "    f_free = f[free_DOF]\n",
        "    J_free = J[np.ix_(free_DOF, free_DOF)]\n",
        "\n",
        "    # Solve for the correction (Delta x)\n",
        "    deltaX_free = np.linalg.solve(J_free, f_free) # Most time consuming step and can be optimized using the sparsity/banded nature of the jacobian\n",
        "    # PARDISO Project\n",
        "\n",
        "    # Full deltaX\n",
        "    deltaX = np.zeros_like(x_new)\n",
        "    deltaX[free_DOF] = deltaX_free # Only update the free part\n",
        "\n",
        "    # Update x_new\n",
        "    x_new = x_new - deltaX\n",
        "\n",
        "    # Calculate error\n",
        "    err = np.linalg.norm(f_free)\n",
        "\n",
        "  u_new = (x_new - x_old) / dt\n",
        "\n",
        "  return x_new, u_new"
      ],
      "metadata": {
        "id": "gX_wNs79VIGT"
      },
      "execution_count": 45,
      "outputs": []
    },
    {
      "cell_type": "markdown",
      "source": [
        "# Plot"
      ],
      "metadata": {
        "id": "Zdh_adabZHuc"
      }
    },
    {
      "cell_type": "code",
      "source": [
        "def plot(x, index_matrix, t):\n",
        "  plt.figure()\n",
        "  plt.title(f'Time: {t:.2f} second')\n",
        "  for i in range(index_matrix.shape[0]): # All springs\n",
        "    ind = index_matrix[i].astype(int)\n",
        "    xi = x[ind[0]]\n",
        "    yi = x[ind[1]]\n",
        "    xj = x[ind[2]]\n",
        "    yj = x[ind[3]]\n",
        "    plt.plot([xi, xj], [yi, yj], 'bo-')\n",
        "  plt.axis('equal')\n",
        "  plt.xlabel('x [meter]')\n",
        "  plt.ylabel('y [meter]')\n",
        "  plt.show()"
      ],
      "metadata": {
        "id": "QZ8hp0nWY9Yt"
      },
      "execution_count": 46,
      "outputs": []
    },
    {
      "cell_type": "markdown",
      "source": [
        "# Main Script\n",
        "Consider using an input file and calling the script from the terminal so that you can run lots of different configurations at one (parallelization)"
      ],
      "metadata": {
        "id": "pyyQBfdNaMfl"
      }
    },
    {
      "cell_type": "markdown",
      "source": [
        "**Preparation Work at t = 0**"
      ],
      "metadata": {
        "id": "39S9cA5madpw"
      }
    },
    {
      "cell_type": "code",
      "source": [
        "N = node_matrix.shape[0] # Number of nodes\n",
        "ndof = 2 * N # Number of degrees of freedom\n",
        "\n",
        "# Initialize my positions and velocities (x_old and u_old; potentially a_old if using Newmark-Beta)\n",
        "x_old = np.zeros(ndof)\n",
        "u_old = np.zeros(ndof) # No need to update\n",
        "\n",
        "# Build x_old vector from the nodes.txt file (node_matrix)\n",
        "for i in range(N):\n",
        "  x_old[2 * i] = node_matrix[i][0] # x coordinate\n",
        "  x_old[2 * i + 1] = node_matrix[i][1] # y coordinate\n",
        "\n",
        "# Every spring has a rest length\n",
        "l_k = np.zeros_like(stiffness_matrix)\n",
        "for i in range(stiffness_matrix.shape[0]):\n",
        "    ind = index_matrix[i].astype(int)\n",
        "    xi = x_old[ind[0]]\n",
        "    yi = x_old[ind[1]]\n",
        "    xj = x_old[ind[2]]\n",
        "    yj = x_old[ind[3]]\n",
        "    l_k[i] = np.sqrt((xj - xi) ** 2 + (yj - yi) ** 2)\n",
        "\n",
        "# Mass\n",
        "m = np.zeros(ndof)\n",
        "for i in range(ndof):\n",
        "  m[i] = 1.0 # In this problem, every point mass is 1 kg"
      ],
      "metadata": {
        "id": "_pZ0RBzbaIvN"
      },
      "execution_count": 47,
      "outputs": []
    },
    {
      "cell_type": "markdown",
      "source": [
        "**Simulation Loop over Time**"
      ],
      "metadata": {
        "id": "xnRFHLAmahZo"
      }
    },
    {
      "cell_type": "code",
      "source": [
        "dt = 0.1 # time step size\n",
        "maxTime = 10 # total time of simulation in seconds\n",
        "t = np.arange(0, maxTime + dt, dt) # time array\n",
        "\n",
        "# free DOFs\n",
        "free_DOF = np.arange(2, ndof-2) # First two and last two DOFs are fixed\n",
        "\n",
        "# Container to store the y-coordinate of the middle node\n",
        "y_middle = np.zeros(len(t))\n",
        "y_middle[0] = x_old[3] # y coordinate of the second node\n",
        "\n",
        "for k in range(len(t)-1):\n",
        "\n",
        "  t_new = t[k+1] # Time\n",
        "\n",
        "  # Call integrator\n",
        "  x_new, u_new = myInt(t_new, x_old, u_old, free_DOF, stiffness_matrix, index_matrix, m, dt, l_k)\n",
        "\n",
        "  if k % 10 == 0:\n",
        "    plot(x_new, index_matrix, t_new)\n",
        "  y_middle[k+1] = x_new[3] # y coordinate of second node\n",
        "\n",
        "  # Update x_old and u_old\n",
        "  x_old = x_new\n",
        "  u_old = u_new\n",
        "\n",
        "# Plot y_middle\n",
        "plt.figure()\n",
        "plt.plot(t, y_middle, 'ro-')\n",
        "plt.xlabel('Time [second]')\n",
        "plt.ylabel('y-coordinate of the second node [meter]')\n",
        "plt.show()"
      ],
      "metadata": {
        "colab": {
          "base_uri": "https://localhost:8080/",
          "height": 211
        },
        "id": "1TEv0JYgakhv",
        "outputId": "fe6f89f7-11f7-4f79-9483-841e9ae58e2e"
      },
      "execution_count": 48,
      "outputs": [
        {
          "output_type": "error",
          "ename": "IndexError",
          "evalue": "only integers, slices (`:`), ellipsis (`...`), numpy.newaxis (`None`) and integer or boolean arrays are valid indices",
          "traceback": [
            "\u001b[0;31m---------------------------------------------------------------------------\u001b[0m",
            "\u001b[0;31mIndexError\u001b[0m                                Traceback (most recent call last)",
            "\u001b[0;32m/tmp/ipython-input-803734331.py\u001b[0m in \u001b[0;36m<cell line: 0>\u001b[0;34m()\u001b[0m\n\u001b[1;32m     12\u001b[0m \u001b[0;32mfor\u001b[0m \u001b[0mk\u001b[0m \u001b[0;32min\u001b[0m \u001b[0mrange\u001b[0m\u001b[0;34m(\u001b[0m\u001b[0mlen\u001b[0m\u001b[0;34m(\u001b[0m\u001b[0mt\u001b[0m\u001b[0;34m)\u001b[0m\u001b[0;34m-\u001b[0m\u001b[0;36m1\u001b[0m\u001b[0;34m)\u001b[0m\u001b[0;34m:\u001b[0m\u001b[0;34m\u001b[0m\u001b[0;34m\u001b[0m\u001b[0m\n\u001b[1;32m     13\u001b[0m \u001b[0;34m\u001b[0m\u001b[0m\n\u001b[0;32m---> 14\u001b[0;31m   \u001b[0mt_new\u001b[0m \u001b[0;34m=\u001b[0m \u001b[0mt\u001b[0m\u001b[0;34m[\u001b[0m\u001b[0mk\u001b[0m\u001b[0;34m+\u001b[0m\u001b[0;36m.5\u001b[0m\u001b[0;34m]\u001b[0m \u001b[0;31m# Time\u001b[0m\u001b[0;34m\u001b[0m\u001b[0;34m\u001b[0m\u001b[0m\n\u001b[0m\u001b[1;32m     15\u001b[0m \u001b[0;34m\u001b[0m\u001b[0m\n\u001b[1;32m     16\u001b[0m   \u001b[0;31m# Call integrator\u001b[0m\u001b[0;34m\u001b[0m\u001b[0;34m\u001b[0m\u001b[0m\n",
            "\u001b[0;31mIndexError\u001b[0m: only integers, slices (`:`), ellipsis (`...`), numpy.newaxis (`None`) and integer or boolean arrays are valid indices"
          ]
        }
      ]
    }
  ]
}