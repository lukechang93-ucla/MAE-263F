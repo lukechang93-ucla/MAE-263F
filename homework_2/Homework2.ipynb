{
  "nbformat": 4,
  "nbformat_minor": 0,
  "metadata": {
    "colab": {
      "provenance": [],
      "collapsed_sections": [
        "0VKh3YVTuDTc",
        "eaD1jQP4K3Vc"
      ],
      "include_colab_link": true
    },
    "kernelspec": {
      "name": "python3",
      "display_name": "Python 3"
    },
    "language_info": {
      "name": "python"
    }
  },
  "cells": [
    {
      "cell_type": "markdown",
      "metadata": {
        "id": "view-in-github",
        "colab_type": "text"
      },
      "source": [
        "<a href=\"https://colab.research.google.com/github/lukechang93-ucla/MAE-263F/blob/main/homework_2/Homework2.ipynb\" target=\"_parent\"><img src=\"https://colab.research.google.com/assets/colab-badge.svg\" alt=\"Open In Colab\"/></a>"
      ]
    },
    {
      "cell_type": "code",
      "source": [
        "import numpy as np\n",
        "import matplotlib.pyplot as plt\n",
        "from IPython.display import clear_output # Only for iPython"
      ],
      "metadata": {
        "id": "_Ao2F5iFtt1j"
      },
      "execution_count": null,
      "outputs": []
    },
    {
      "cell_type": "markdown",
      "source": [
        "#Helper function"
      ],
      "metadata": {
        "id": "0VKh3YVTuDTc"
      }
    },
    {
      "cell_type": "code",
      "source": [
        "def crossMat(a):\n",
        "    \"\"\"\n",
        "    Returns the cross product matrix of vector 'a'.\n",
        "\n",
        "    Parameters:\n",
        "    a : np.ndarray\n",
        "        A 3-element array representing a vector.\n",
        "\n",
        "    Returns:\n",
        "    A : np.ndarray\n",
        "        The cross product matrix corresponding to vector 'a'.\n",
        "    \"\"\"\n",
        "    A = np.array([[0, -a[2], a[1]],\n",
        "                  [a[2], 0, -a[0]],\n",
        "                  [-a[1], a[0], 0]])\n",
        "\n",
        "    return A"
      ],
      "metadata": {
        "id": "-kojfrzXuF9B"
      },
      "execution_count": null,
      "outputs": []
    },
    {
      "cell_type": "markdown",
      "source": [
        "#Gradient and Hessian of elastic energies"
      ],
      "metadata": {
        "id": "ePDB48IItjDL"
      }
    },
    {
      "cell_type": "code",
      "execution_count": null,
      "metadata": {
        "id": "va3tfBAUd4gI"
      },
      "outputs": [],
      "source": [
        "def gradEb(xkm1, ykm1, xk, yk, xkp1, ykp1, curvature0, l_k, EI):\n",
        "    \"\"\"\n",
        "    Returns the derivative of bending energy E_k^b with respect to\n",
        "    x_{k-1}, y_{k-1}, x_k, y_k, x_{k+1}, and y_{k+1}.\n",
        "\n",
        "    Parameters:\n",
        "    xkm1, ykm1 : float\n",
        "        Coordinates of the previous node (x_{k-1}, y_{k-1}).\n",
        "    xk, yk : float\n",
        "        Coordinates of the current node (x_k, y_k).\n",
        "    xkp1, ykp1 : float\n",
        "        Coordinates of the next node (x_{k+1}, y_{k+1}).\n",
        "    curvature0 : float\n",
        "        Discrete natural curvature at node (xk, yk).\n",
        "    l_k : float\n",
        "        Voronoi length of node (xk, yk).\n",
        "    EI : float\n",
        "        Bending stiffness.\n",
        "\n",
        "    Returns:\n",
        "    dF : np.ndarray\n",
        "        Derivative of bending energy.\n",
        "    \"\"\"\n",
        "\n",
        "    # Nodes in 3D\n",
        "    node0 = np.array([xkm1, ykm1, 0.0])\n",
        "    node1 = np.array([xk, yk, 0])\n",
        "    node2 = np.array([xkp1, ykp1, 0])\n",
        "\n",
        "    # Unit vectors along z-axis\n",
        "    m2e = np.array([0, 0, 1])\n",
        "    m2f = np.array([0, 0, 1])\n",
        "\n",
        "    kappaBar = curvature0\n",
        "\n",
        "    # Initialize gradient of curvature\n",
        "    gradKappa = np.zeros(6)\n",
        "\n",
        "    # Edge vectors\n",
        "    ee = node1 - node0\n",
        "    ef = node2 - node1\n",
        "\n",
        "    # Norms of edge vectors\n",
        "    norm_e = np.linalg.norm(ee)\n",
        "    norm_f = np.linalg.norm(ef)\n",
        "\n",
        "    # Unit tangents\n",
        "    te = ee / norm_e\n",
        "    tf = ef / norm_f\n",
        "\n",
        "    # Curvature binormal\n",
        "    kb = 2.0 * np.cross(te, tf) / (1.0 + np.dot(te, tf))\n",
        "\n",
        "    chi = 1.0 + np.dot(te, tf)\n",
        "    tilde_t = (te + tf) / chi\n",
        "    tilde_d2 = (m2e + m2f) / chi\n",
        "\n",
        "    # Curvature\n",
        "    kappa1 = kb[2]\n",
        "\n",
        "    # Gradient of kappa1 with respect to edge vectors\n",
        "    Dkappa1De = 1.0 / norm_e * (-kappa1 * tilde_t + np.cross(tf, tilde_d2))\n",
        "    Dkappa1Df = 1.0 / norm_f * (-kappa1 * tilde_t - np.cross(te, tilde_d2))\n",
        "\n",
        "    # Populate the gradient of kappa\n",
        "    gradKappa[0:2] = -Dkappa1De[0:2]\n",
        "    gradKappa[2:4] = Dkappa1De[0:2] - Dkappa1Df[0:2]\n",
        "    gradKappa[4:6] = Dkappa1Df[0:2]\n",
        "\n",
        "    # Gradient of bending energy\n",
        "    dkappa = kappa1 - kappaBar\n",
        "    dF = gradKappa * EI * dkappa / l_k\n",
        "\n",
        "    return dF"
      ]
    },
    {
      "cell_type": "code",
      "source": [
        "def hessEb(xkm1, ykm1, xk, yk, xkp1, ykp1, curvature0, l_k, EI):\n",
        "    \"\"\"\n",
        "    Returns the Hessian (second derivative) of bending energy E_k^b\n",
        "    with respect to x_{k-1}, y_{k-1}, x_k, y_k, x_{k+1}, and y_{k+1}.\n",
        "\n",
        "    Parameters:\n",
        "    xkm1, ykm1 : float\n",
        "        Coordinates of the previous node (x_{k-1}, y_{k-1}).\n",
        "    xk, yk : float\n",
        "        Coordinates of the current node (x_k, y_k).\n",
        "    xkp1, ykp1 : float\n",
        "        Coordinates of the next node (x_{k+1}, y_{k+1}).\n",
        "    curvature0 : float\n",
        "        Discrete natural curvature at node (xk, yk).\n",
        "    l_k : float\n",
        "        Voronoi length of node (xk, yk).\n",
        "    EI : float\n",
        "        Bending stiffness.\n",
        "\n",
        "    Returns:\n",
        "    dJ : np.ndarray\n",
        "        Hessian of bending energy.\n",
        "    \"\"\"\n",
        "\n",
        "    # Nodes in 3D\n",
        "    node0 = np.array([xkm1, ykm1, 0])\n",
        "    node1 = np.array([xk, yk, 0])\n",
        "    node2 = np.array([xkp1, ykp1, 0])\n",
        "\n",
        "    # Unit vectors along z-axis\n",
        "    m2e = np.array([0, 0, 1])\n",
        "    m2f = np.array([0, 0, 1])\n",
        "\n",
        "    kappaBar = curvature0\n",
        "\n",
        "    # Initialize gradient of curvature\n",
        "    gradKappa = np.zeros(6)\n",
        "\n",
        "    # Edge vectors\n",
        "    ee = node1 - node0\n",
        "    ef = node2 - node1\n",
        "\n",
        "    # Norms of edge vectors\n",
        "    norm_e = np.linalg.norm(ee)\n",
        "    norm_f = np.linalg.norm(ef)\n",
        "\n",
        "    # Unit tangents\n",
        "    te = ee / norm_e\n",
        "    tf = ef / norm_f\n",
        "\n",
        "    # Curvature binormal\n",
        "    kb = 2.0 * np.cross(te, tf) / (1.0 + np.dot(te, tf))\n",
        "\n",
        "    chi = 1.0 + np.dot(te, tf)\n",
        "    tilde_t = (te + tf) / chi\n",
        "    tilde_d2 = (m2e + m2f) / chi\n",
        "\n",
        "    # Curvature\n",
        "    kappa1 = kb[2]\n",
        "\n",
        "    # Gradient of kappa1 with respect to edge vectors\n",
        "    Dkappa1De = 1.0 / norm_e * (-kappa1 * tilde_t + np.cross(tf, tilde_d2))\n",
        "    Dkappa1Df = 1.0 / norm_f * (-kappa1 * tilde_t - np.cross(te, tilde_d2))\n",
        "\n",
        "    # Populate the gradient of kappa\n",
        "    gradKappa[0:2] = -Dkappa1De[0:2]\n",
        "    gradKappa[2:4] = Dkappa1De[0:2] - Dkappa1Df[0:2]\n",
        "    gradKappa[4:6] = Dkappa1Df[0:2]\n",
        "\n",
        "    # Compute the Hessian (second derivative of kappa)\n",
        "    DDkappa1 = np.zeros((6, 6))\n",
        "\n",
        "    norm2_e = norm_e**2\n",
        "    norm2_f = norm_f**2\n",
        "\n",
        "    Id3 = np.eye(3)\n",
        "\n",
        "    # Helper matrices for second derivatives\n",
        "    tt_o_tt = np.outer(tilde_t, tilde_t)\n",
        "    tmp = np.cross(tf, tilde_d2)\n",
        "    tf_c_d2t_o_tt = np.outer(tmp, tilde_t)\n",
        "    kb_o_d2e = np.outer(kb, m2e)\n",
        "\n",
        "    D2kappa1De2 = (2 * kappa1 * tt_o_tt - tf_c_d2t_o_tt - tf_c_d2t_o_tt.T) / norm2_e - \\\n",
        "                  kappa1 / (chi * norm2_e) * (Id3 - np.outer(te, te)) + \\\n",
        "                  (kb_o_d2e + kb_o_d2e.T) / (4 * norm2_e)\n",
        "\n",
        "    tmp = np.cross(te, tilde_d2)\n",
        "    te_c_d2t_o_tt = np.outer(tmp, tilde_t)\n",
        "    tt_o_te_c_d2t = te_c_d2t_o_tt.T\n",
        "    kb_o_d2f = np.outer(kb, m2f)\n",
        "\n",
        "    D2kappa1Df2 = (2 * kappa1 * tt_o_tt + te_c_d2t_o_tt + te_c_d2t_o_tt.T) / norm2_f - \\\n",
        "                  kappa1 / (chi * norm2_f) * (Id3 - np.outer(tf, tf)) + \\\n",
        "                  (kb_o_d2f + kb_o_d2f.T) / (4 * norm2_f)\n",
        "    D2kappa1DeDf = -kappa1 / (chi * norm_e * norm_f) * (Id3 + np.outer(te, tf)) \\\n",
        "                  + 1.0 / (norm_e * norm_f) * (2 * kappa1 * tt_o_tt - tf_c_d2t_o_tt + \\\n",
        "                  tt_o_te_c_d2t - crossMat(tilde_d2))\n",
        "    D2kappa1DfDe = D2kappa1DeDf.T\n",
        "\n",
        "    # Populate the Hessian of kappa\n",
        "    DDkappa1[0:2, 0:2] = D2kappa1De2[0:2, 0:2]\n",
        "    DDkappa1[0:2, 2:4] = -D2kappa1De2[0:2, 0:2] + D2kappa1DeDf[0:2, 0:2]\n",
        "    DDkappa1[0:2, 4:6] = -D2kappa1DeDf[0:2, 0:2]\n",
        "    DDkappa1[2:4, 0:2] = -D2kappa1De2[0:2, 0:2] + D2kappa1DfDe[0:2, 0:2]\n",
        "    DDkappa1[2:4, 2:4] = D2kappa1De2[0:2, 0:2] - D2kappa1DeDf[0:2, 0:2] - \\\n",
        "                         D2kappa1DfDe[0:2, 0:2] + D2kappa1Df2[0:2, 0:2]\n",
        "    DDkappa1[2:4, 4:6] = D2kappa1DeDf[0:2, 0:2] - D2kappa1Df2[0:2, 0:2]\n",
        "    DDkappa1[4:6, 0:2] = -D2kappa1DfDe[0:2, 0:2]\n",
        "    DDkappa1[4:6, 2:4] = D2kappa1DfDe[0:2, 0:2] - D2kappa1Df2[0:2, 0:2]\n",
        "    DDkappa1[4:6, 4:6] = D2kappa1Df2[0:2, 0:2]\n",
        "\n",
        "    # Hessian of bending energy\n",
        "    dkappa = kappa1 - kappaBar\n",
        "    dJ = 1.0 / l_k * EI * np.outer(gradKappa, gradKappa)\n",
        "    dJ += 1.0 / l_k * dkappa * EI * DDkappa1\n",
        "\n",
        "    return dJ"
      ],
      "metadata": {
        "id": "hwgt-sWpt5SW"
      },
      "execution_count": null,
      "outputs": []
    },
    {
      "cell_type": "code",
      "source": [
        "def gradEs(xk, yk, xkp1, ykp1, l_k, EA):\n",
        "    \"\"\"\n",
        "    Calculate the gradient of the stretching energy with respect to the coordinates.\n",
        "\n",
        "    Args:\n",
        "    - xk (float): x coordinate of the current point\n",
        "    - yk (float): y coordinate of the current point\n",
        "    - xkp1 (float): x coordinate of the next point\n",
        "    - ykp1 (float): y coordinate of the next point\n",
        "    - l_k (float): reference length\n",
        "    - EA (float): elastic modulus\n",
        "\n",
        "    Returns:\n",
        "    - F (np.array): Gradient array\n",
        "    \"\"\"\n",
        "    F = np.zeros(4)\n",
        "    F[0] = -(1.0 - np.sqrt((xkp1 - xk)**2.0 + (ykp1 - yk)**2.0) / l_k) * ((xkp1 - xk)**2.0 + (ykp1 - yk)**2.0)**(-0.5) / l_k * (-2.0 * xkp1 + 2.0 * xk)\n",
        "    F[1] = -(0.1e1 - np.sqrt((xkp1 - xk) ** 2 + (ykp1 - yk) ** 2) / l_k) * ((xkp1 - xk) ** 2 + (ykp1 - yk) ** 2) ** (-0.1e1 / 0.2e1) / l_k * (-0.2e1 * ykp1 + 0.2e1 * yk)\n",
        "    F[2] = -(0.1e1 - np.sqrt((xkp1 - xk) ** 2 + (ykp1 - yk) ** 2) / l_k) * ((xkp1 - xk) ** 2 + (ykp1 - yk) ** 2) ** (-0.1e1 / 0.2e1) / l_k * (0.2e1 * xkp1 - 0.2e1 * xk)\n",
        "    F[3] = -(0.1e1 - np.sqrt((xkp1 - xk) ** 2 + (ykp1 - yk) ** 2) / l_k) * ((xkp1 - xk) ** 2 + (ykp1 - yk) ** 2) ** (-0.1e1 / 0.2e1) / l_k * (0.2e1 * ykp1 - 0.2e1 * yk)\n",
        "\n",
        "    F = 0.5 * EA * l_k * F  # Scale by EA and l_k\n",
        "\n",
        "    return F"
      ],
      "metadata": {
        "id": "f9OEpHoev3xa"
      },
      "execution_count": null,
      "outputs": []
    },
    {
      "cell_type": "code",
      "source": [
        "def hessEs(xk, yk, xkp1, ykp1, l_k, EA):\n",
        "    \"\"\"\n",
        "    This function returns the 4x4 Hessian of the stretching energy E_k^s with\n",
        "    respect to x_k, y_k, x_{k+1}, and y_{k+1}.\n",
        "    \"\"\"\n",
        "    J = np.zeros((4, 4))  # Initialize the Hessian matrix\n",
        "    J11 = (1 / ((xkp1 - xk) ** 2 + (ykp1 - yk) ** 2) / l_k ** 2 * (-2 * xkp1 + 2 * xk) ** 2) / 0.2e1 + (0.1e1 - np.sqrt(((xkp1 - xk) ** 2 + (ykp1 - yk) ** 2)) / l_k) * (((xkp1 - xk) ** 2 + (ykp1 - yk) ** 2) ** (-0.3e1 / 0.2e1)) / l_k * ((-2 * xkp1 + 2 * xk) ** 2) / 0.2e1 - 0.2e1 * (0.1e1 - np.sqrt(((xkp1 - xk) ** 2 + (ykp1 - yk) ** 2)) / l_k) * (((xkp1 - xk) ** 2 + (ykp1 - yk) ** 2) ** (-0.1e1 / 0.2e1)) / l_k\n",
        "    J12 = (1 / ((xkp1 - xk) ** 2 + (ykp1 - yk) ** 2) / l_k ** 2 * (-2 * ykp1 + 2 * yk) * (-2 * xkp1 + 2 * xk)) / 0.2e1 + (0.1e1 - np.sqrt(((xkp1 - xk) ** 2 + (ykp1 - yk) ** 2)) / l_k) * (((xkp1 - xk) ** 2 + (ykp1 - yk) ** 2) ** (-0.3e1 / 0.2e1)) / l_k * (-2 * xkp1 + 2 * xk) * (-2 * ykp1 + 2 * yk) / 0.2e1\n",
        "    J13 = (1 / ((xkp1 - xk) ** 2 + (ykp1 - yk) ** 2) / l_k ** 2 * (2 * xkp1 - 2 * xk) * (-2 * xkp1 + 2 * xk)) / 0.2e1 + (0.1e1 - np.sqrt(((xkp1 - xk) ** 2 + (ykp1 - yk) ** 2)) / l_k) * (((xkp1 - xk) ** 2 + (ykp1 - yk) ** 2) ** (-0.3e1 / 0.2e1)) / l_k * (-2 * xkp1 + 2 * xk) * (2 * xkp1 - 2 * xk) / 0.2e1 + 0.2e1 * (0.1e1 - np.sqrt(((xkp1 - xk) ** 2 + (ykp1 - yk) ** 2)) / l_k) * (((xkp1 - xk) ** 2 + (ykp1 - yk) ** 2) ** (-0.1e1 / 0.2e1)) / l_k\n",
        "    J14 = (1 / ((xkp1 - xk) ** 2 + (ykp1 - yk) ** 2) / l_k ** 2 * (2 * ykp1 - 2 * yk) * (-2 * xkp1 + 2 * xk)) / 0.2e1 + (0.1e1 - np.sqrt(((xkp1 - xk) ** 2 + (ykp1 - yk) ** 2)) / l_k) * (((xkp1 - xk) ** 2 + (ykp1 - yk) ** 2) ** (-0.3e1 / 0.2e1)) / l_k * (-2 * xkp1 + 2 * xk) * (2 * ykp1 - 2 * yk) / 0.2e1\n",
        "    J22 = (1 / ((xkp1 - xk) ** 2 + (ykp1 - yk) ** 2) / l_k ** 2 * (-2 * ykp1 + 2 * yk) ** 2) / 0.2e1 + (0.1e1 - np.sqrt(((xkp1 - xk) ** 2 + (ykp1 - yk) ** 2)) / l_k) * (((xkp1 - xk) ** 2 + (ykp1 - yk) ** 2) ** (-0.3e1 / 0.2e1)) / l_k * ((-2 * ykp1 + 2 * yk) ** 2) / 0.2e1 - 0.2e1 * (0.1e1 - np.sqrt(((xkp1 - xk) ** 2 + (ykp1 - yk) ** 2)) / l_k) * (((xkp1 - xk) ** 2 + (ykp1 - yk) ** 2) ** (-0.1e1 / 0.2e1)) / l_k\n",
        "    J23 = (1 / ((xkp1 - xk) ** 2 + (ykp1 - yk) ** 2) / l_k ** 2 * (2 * xkp1 - 2 * xk) * (-2 * ykp1 + 2 * yk)) / 0.2e1 + (0.1e1 - np.sqrt(((xkp1 - xk) ** 2 + (ykp1 - yk) ** 2)) / l_k) * (((xkp1 - xk) ** 2 + (ykp1 - yk) ** 2) ** (-0.3e1 / 0.2e1)) / l_k * (-2 * ykp1 + 2 * yk) * (2 * xkp1 - 2 * xk) / 0.2e1\n",
        "    J24 = (1 / ((xkp1 - xk) ** 2 + (ykp1 - yk) ** 2) / l_k ** 2 * (2 * ykp1 - 2 * yk) * (-2 * ykp1 + 2 * yk)) / 0.2e1 + (0.1e1 - np.sqrt(((xkp1 - xk) ** 2 + (ykp1 - yk) ** 2)) / l_k) * (((xkp1 - xk) ** 2 + (ykp1 - yk) ** 2) ** (-0.3e1 / 0.2e1)) / l_k * (-2 * ykp1 + 2 * yk) * (2 * ykp1 - 2 * yk) / 0.2e1 + 0.2e1 * (0.1e1 - np.sqrt(((xkp1 - xk) ** 2 + (ykp1 - yk) ** 2)) / l_k) * (((xkp1 - xk) ** 2 + (ykp1 - yk) ** 2) ** (-0.1e1 / 0.2e1)) / l_k\n",
        "    J33 = (1 / ((xkp1 - xk) ** 2 + (ykp1 - yk) ** 2) / l_k ** 2 * (2 * xkp1 - 2 * xk) ** 2) / 0.2e1 + (0.1e1 - np.sqrt(((xkp1 - xk) ** 2 + (ykp1 - yk) ** 2)) / l_k) * (((xkp1 - xk) ** 2 + (ykp1 - yk) ** 2) ** (-0.3e1 / 0.2e1)) / l_k * ((2 * xkp1 - 2 * xk) ** 2) / 0.2e1 - 0.2e1 * (0.1e1 - np.sqrt(((xkp1 - xk) ** 2 + (ykp1 - yk) ** 2)) / l_k) * (((xkp1 - xk) ** 2 + (ykp1 - yk) ** 2) ** (-0.1e1 / 0.2e1)) / l_k\n",
        "    J34 = (1 / ((xkp1 - xk) ** 2 + (ykp1 - yk) ** 2) / l_k ** 2 * (2 * ykp1 - 2 * yk) * (2 * xkp1 - 2 * xk)) / 0.2e1 + (0.1e1 - np.sqrt(((xkp1 - xk) ** 2 + (ykp1 - yk) ** 2)) / l_k) * (((xkp1 - xk) ** 2 + (ykp1 - yk) ** 2) ** (-0.3e1 / 0.2e1)) / l_k * (2 * xkp1 - 2 * xk) * (2 * ykp1 - 2 * yk) / 0.2e1\n",
        "    J44 = (1 / ((xkp1 - xk) ** 2 + (ykp1 - yk) ** 2) / l_k ** 2 * (2 * ykp1 - 2 * yk) ** 2) / 0.2e1 + (0.1e1 - np.sqrt(((xkp1 - xk) ** 2 + (ykp1 - yk) ** 2)) / l_k) * (((xkp1 - xk) ** 2 + (ykp1 - yk) ** 2) ** (-0.3e1 / 0.2e1)) / l_k * ((2 * ykp1 - 2 * yk) ** 2) / 0.2e1 - 0.2e1 * (0.1e1 - np.sqrt(((xkp1 - xk) ** 2 + (ykp1 - yk) ** 2)) / l_k) * (((xkp1 - xk) ** 2 + (ykp1 - yk) ** 2) ** (-0.1e1 / 0.2e1)) / l_k\n",
        "\n",
        "    J = np.array([[J11, J12, J13, J14],\n",
        "                   [J12, J22, J23, J24],\n",
        "                   [J13, J23, J33, J34],\n",
        "                   [J14, J24, J34, J44]])\n",
        "\n",
        "    J *= 0.5 * EA * l_k\n",
        "\n",
        "    return J"
      ],
      "metadata": {
        "id": "EDftveMe_aBS"
      },
      "execution_count": null,
      "outputs": []
    },
    {
      "cell_type": "markdown",
      "source": [
        "# Functions to create elastic force vector and its Hessian"
      ],
      "metadata": {
        "id": "4uYWvRgbHrfO"
      }
    },
    {
      "cell_type": "code",
      "source": [
        "def getFs(q, EA, deltaL):\n",
        "  # q - DOF vector of size N\n",
        "  # EA - stretching stiffness\n",
        "  # deltaL - undeformed reference length (assume to be a scalar for this simple example)\n",
        "  # Output:\n",
        "  # Fs - a vector (negative gradient of elastic stretching force)\n",
        "  # Js - a matrix (negative hessian of elastic stretching force)\n",
        "\n",
        "  ndof = q.size # Number of DOFs\n",
        "  N = ndof // 2 # Number of nodes\n",
        "\n",
        "  Fs = np.zeros(ndof) # stretching force\n",
        "  Js = np.zeros((ndof, ndof))\n",
        "\n",
        "  for k in range(0, N-1):\n",
        "      # May need to modify if network of beams\n",
        "      # k-th stretching spring (USE A LOOP for the general case\n",
        "      xkm1 = q[2*k] # x coordinate of the first node\n",
        "      ykm1 = q[2*k+1] # y coordinate of the first node\n",
        "      xk = q[2*k+2] # x coordinate of the second node\n",
        "      yk = q[2*k+3] # y coordinate of the second node\n",
        "      ind = np.arange(2*k, 2*k+4) # 0, 1, 2, 3 for k = 0\n",
        "      gradEnergy = gradEs(xkm1, ykm1, xk, yk, deltaL, EA)\n",
        "      hessEnergy = hessEs(xkm1, ykm1, xk, yk, deltaL, EA)\n",
        "\n",
        "      Fs[ind] -= gradEnergy # force = - gradient of energy. Fs is the stretching force\n",
        "      Js[np.ix_(ind, ind)] -= hessEnergy # index vector: 0:4\n",
        "\n",
        "  return Fs, Js"
      ],
      "metadata": {
        "id": "fGCOSVjNHvtK"
      },
      "execution_count": null,
      "outputs": []
    },
    {
      "cell_type": "code",
      "source": [
        "def getFb(q, EI, deltaL):\n",
        "  # q - DOF vector of size N\n",
        "  # EI - bending stiffness\n",
        "  # deltaL - undeformed Voronoi length (assume to be a scalar for this simple example)\n",
        "  # Output:\n",
        "  # Fb - a vector (negative gradient of elastic stretching force)\n",
        "  # Jb - a matrix (negative hessian of elastic stretching force)\n",
        "\n",
        "  ndof = q.size # Number of DOFs\n",
        "  N = ndof // 2 # Number of nodes\n",
        "\n",
        "  Fb = np.zeros(ndof) # bending force\n",
        "  Jb = np.zeros((ndof, ndof))\n",
        "\n",
        "  # First bending spring (USE A LOOP for the general case)\n",
        "  for k in range(1, N-1):\n",
        "    xkm1 = q[2*k-2] # x coordinate of the first node\n",
        "    ykm1 = q[2*k-1] # y coordinate of the first node\n",
        "    xk = q[2*k] # x coordinate of the second node\n",
        "    yk = q[2*k+1] # y coordinate of the second node\n",
        "    xkp1 = q[2*k+2] # x coordinate of the third node\n",
        "    ykp1 = q[2*k+3] # y coordinate of the third node\n",
        "    ind = np.arange(2*k-2, 2*k+4)\n",
        "    gradEnergy = gradEb(xkm1, ykm1, xk, yk, xkp1, ykp1, 0, deltaL, EI)\n",
        "    hessEnergy = hessEb(xkm1, ykm1, xk, yk, xkp1, ykp1, 0, deltaL, EI)\n",
        "\n",
        "    Fb[ind] -= gradEnergy # force = - gradient of energy. Fb is the stretching force\n",
        "    Jb[np.ix_(ind, ind)] -= hessEnergy # index vector: 0:6\n",
        "\n",
        "  return Fb, Jb"
      ],
      "metadata": {
        "id": "CCWGAqh4JuAC"
      },
      "execution_count": null,
      "outputs": []
    },
    {
      "cell_type": "markdown",
      "source": [
        "# Objective Function or Integrator\n",
        "\n",
        "Given the old position and the old velocity, find out th new position and the new velocity"
      ],
      "metadata": {
        "id": "eaD1jQP4K3Vc"
      }
    },
    {
      "cell_type": "code",
      "source": [
        "def objfun(q_old, u_old, dt, tol, maximum_iter,\n",
        "           m, mMat, # inertia\n",
        "           EI, EA, # elastic stiffness\n",
        "           W, C, P, # external force\n",
        "           deltaL,\n",
        "           free_index):\n",
        "\n",
        "  q_new = q_old.copy() # Guess solution\n",
        "\n",
        "  # Newton Raphson\n",
        "  iter_count = 0 # number of iterations\n",
        "  error = tol * 10 # error\n",
        "  flag = 1 # if flag = 1, it is a good solution\n",
        "\n",
        "  while error > tol:\n",
        "    # Inertia\n",
        "    F_inertia = m/dt * ((q_new - q_old) / dt - u_old)\n",
        "    J_inertia = mMat / dt ** 2\n",
        "\n",
        "    # Elastic forces: Stretching and Bending\n",
        "    Fs, Js = getFs(q_new, EA, deltaL)\n",
        "    Fb, Jb = getFb(q_new, EI, deltaL)\n",
        "    F_elastic = Fs + Fb\n",
        "    J_elastic = Js + Jb\n",
        "\n",
        "    # External forces\n",
        "    # Viscous force\n",
        "    Fv = - C @ ( q_new - q_old ) / dt\n",
        "    Jv = - C / dt\n",
        "\n",
        "    # Equations of motion\n",
        "    f = F_inertia - F_elastic - Fv - W - P\n",
        "    J = J_inertia - J_elastic - Jv\n",
        "\n",
        "    f_free = f[free_index]\n",
        "    J_free = J[np.ix_(free_index, free_index)]\n",
        "\n",
        "    # Newton's update (all DOFs are FREE)\n",
        "    dq_free = np.linalg.solve(J_free, f_free)\n",
        "    q_new[free_index] = q_new[free_index] - dq_free\n",
        "\n",
        "    # Get the error\n",
        "    error = np.linalg.norm(f_free)\n",
        "\n",
        "    # Update the iteration number\n",
        "    iter_count += 1\n",
        "    if iter_count > maximum_iter:\n",
        "      flag = -1 # Return with an error signal\n",
        "      print(\"Maximum number of iterations reached.\")\n",
        "      return q_new, flag\n",
        "\n",
        "    # u_new = (q_new - q_old) / dt # Velocity\n",
        "  return q_new, flag"
      ],
      "metadata": {
        "id": "iHloytJUK7Qi"
      },
      "execution_count": null,
      "outputs": []
    },
    {
      "cell_type": "markdown",
      "source": [
        "# Main"
      ],
      "metadata": {
        "id": "REnOBbuYNjZt"
      }
    },
    {
      "cell_type": "code",
      "source": [
        "nv = 50 # number of nodes/vertices\n",
        "ndof = 2 * nv\n",
        "midNode = nv//2 + 1\n",
        "\n",
        "# Time step\n",
        "dt = 0.01 # second\n",
        "\n",
        "# Rod length\n",
        "RodLength = 1 # meter\n",
        "d = .75\n",
        "l = RodLength\n",
        "\n",
        "# Discrete length / reference length\n",
        "deltaL = RodLength / (nv - 1)\n",
        "\n",
        "# Radii of spheres (given)\n",
        "R = np.zeros(nv)\n",
        "for k in range(nv):\n",
        "  R[k] = deltaL/10 # meter\n",
        "R[midNode-1] = 0.025 # meter\n",
        "\n",
        "# Densities\n",
        "# rho_metal = 7000 # kg/m^3\n",
        "# rho_gl = 1000\n",
        "# rho = rho_metal  - rho_gl\n",
        "rho = 2700 # kg/m^3\n",
        "\n",
        "# Inner & outer radius\n",
        "r0 = 11e-3 # meter\n",
        "r1 = 13e-3 # meter\n",
        "\n",
        "# Young's modulus\n",
        "Y = 70e9\n",
        "\n",
        "# # Viscosity\n",
        "# visc = 1000.0 # Pa-s\n",
        "\n",
        "# Maximum number of iterations\n",
        "maximum_iter = 1000\n",
        "\n",
        "# Total time\n",
        "totalTime = 1 # second\n",
        "\n",
        "# Variables related to plotting\n",
        "saveImage = 0\n",
        "plotStep = 100 # Every 5-th step will be plotted"
      ],
      "metadata": {
        "id": "api5nX-wNlTO"
      },
      "execution_count": null,
      "outputs": []
    },
    {
      "cell_type": "code",
      "source": [
        "# Utility quantites\n",
        "ne = nv - 1 # number of edges\n",
        "EI = Y * np.pi * (r1**4 - r0**4) / 4\n",
        "EA = Y * np.pi * (r1**2 - r0**2)\n",
        "\n",
        "# Tolerance\n",
        "tol = EI / RodLength ** 2 * 1e-3\n",
        "\n",
        "# Geometry\n",
        "nodes = np.zeros((nv, 2))\n",
        "for c in range(nv):\n",
        "  nodes[c, 0] = c * deltaL # x-coordinate\n",
        "  nodes[c, 1] = 0.0 # y-coordinate\n",
        "\n",
        "# Mass vector and matrix\n",
        "m = np.zeros( 2 * nv )\n",
        "for k in range(0, nv):\n",
        "  m[2*k] = np.pi * (r1**2 - r0**2) * RodLength * rho / (nv - 1) # mass of k-th node along x\n",
        "  m[2*k + 1] = np.pi * (r1**2 - r0**2) * RodLength * rho / (nv - 1)  # mass of k-th node along y\n",
        "mMat = np.diag(m)\n",
        "\n",
        "# Gravity (external force)\n",
        "W = np.zeros( 2 * nv)\n",
        "g = np.array([0, -9.8]) # m/s^2\n",
        "# for k in range(0, nv):\n",
        "#   W[2*k] = 4.0 / 3.0 * np.pi * R[k]**3 * rho * g[0] # Weight along x\n",
        "#   W[2*k+1] = 4.0 / 3.0 * np.pi * R[k]**3 * rho * g[1] # Weight along y\n",
        "# Gradient of W = 0\n",
        "\n",
        "P_mag = -20000 # N\n",
        "P = np.zeros( 2 * nv)\n",
        "P_dist = np.floor(d / (RodLength/nv)).astype(int)\n",
        "P[P_dist*2+1] = P_mag # force at\n",
        "\n",
        "# Viscous damping (external force)\n",
        "C = np.zeros((2 * nv, 2 * nv))\n",
        "# for k in range(0, nv):\n",
        "#   C[2*k, 2*k] = 6.0 * np.pi * visc * R[k] # Damping along x for k-th node\n",
        "#   C[2*k+1, 2*k+1] = 6.0 * np.pi * visc * R[k] # Damping along y for k-th node\n",
        "\n",
        "# Initial conditions\n",
        "q0 = np.zeros(2 * nv)\n",
        "for c in range(nv):\n",
        "  q0[2*c] = nodes[c, 0] # x coordinate\n",
        "  q0[2*c+1] = nodes[c, 1] # y coordinate\n",
        "\n",
        "u0 = np.zeros(2 * nv) # old velocity"
      ],
      "metadata": {
        "id": "JBAGx7JUOvzo"
      },
      "execution_count": null,
      "outputs": []
    },
    {
      "cell_type": "markdown",
      "source": [
        "**Boundary Conditions**\n",
        "\n",
        "In this example, the boundary conditions do not change with time and, therefore, we can compute the free_index (corresponding to free DOFs) and fixed_index (corresponding to fixed DOFs) at $t=0$."
      ],
      "metadata": {
        "id": "diPUxkjHkUap"
      }
    },
    {
      "cell_type": "code",
      "source": [
        "all_DOFs = np.arange(ndof) # Set of all DOFs\n",
        "fixed_index = np.array([0, 1, nv*2 - 1]) # Fixed DOFs\n",
        "\n",
        "# Free index\n",
        "free_index = np.setdiff1d(all_DOFs, fixed_index) # All the DOFs are free except the fixed ones"
      ],
      "metadata": {
        "id": "YbiZZEJmkT_3"
      },
      "execution_count": null,
      "outputs": []
    },
    {
      "cell_type": "markdown",
      "source": [
        "**Time stepping loop**"
      ],
      "metadata": {
        "id": "wcGitq38Pad3"
      }
    },
    {
      "cell_type": "code",
      "source": [
        "# Number of steps\n",
        "Nsteps = round( totalTime / dt )\n",
        "\n",
        "ctime = 0 # Current time\n",
        "\n",
        "# Store the y-coordinate of the middle node, its velocity, and the angle\n",
        "all_pos = np.zeros(Nsteps)\n",
        "all_vel = np.zeros(Nsteps)\n",
        "mid_angle = np.zeros(Nsteps)\n",
        "\n",
        "all_Ymax = np.zeros(Nsteps)\n",
        "\n",
        "all_pos[0] = 0\n",
        "all_vel[0] = 0\n",
        "mid_angle[0] = 0\n",
        "\n",
        "# Loop over the time steps\n",
        "for timeStep in range(1,Nsteps):\n",
        "\n",
        "  q_new, error = objfun(q0, u0, dt, tol, maximum_iter, m, mMat, EI, EA, W, C, P,\n",
        "                        deltaL, free_index)\n",
        "  if error < 0:\n",
        "    print('Could not converge.')\n",
        "    break\n",
        "\n",
        "  u_new = (q_new - q0) / dt # New velocity\n",
        "\n",
        "\n",
        "  ctime += dt # Update current time\n",
        "\n",
        "  # Save information about the middle node\n",
        "  all_pos[timeStep] = q_new[2*midNode-1] # y coordinate of middle node\n",
        "  all_vel[timeStep] = u_new[2*midNode-1] # y velocity of middle node\n",
        "  vec1 = np.array( [ q_new[2*midNode-2], q_new[2*midNode-1], 0 ] ) - np.array( [ q_new[2*midNode-4], q_new[2*midNode-3], 0 ] ) # Second node - First node\n",
        "  vec2 = np.array( [ q_new[2*midNode], q_new[2*midNode+1], 0 ] ) - np.array( [ q_new[2*midNode-2], q_new[2*midNode-1], 0 ] ) # Third node - Second node\n",
        "  mid_angle[timeStep] =  np.degrees( np.arctan2(np.linalg.norm( np.cross(vec1, vec2)), np.dot(vec1, vec2)) )\n",
        "\n",
        "  all_Ymax[timeStep] = np.min(q_new)\n",
        "\n",
        "  q0 = q_new.copy() # New position becomes old position\n",
        "  u0 = u_new.copy() # New velocity becomes old velocity\n",
        "\n",
        "  ctime = 1\n",
        "\n",
        "  # Plot\n",
        "  if timeStep == 1:\n",
        "    x_arr = q_new[::2] # q[0], q[2], q[4]\n",
        "    y_arr = q_new[1::2] # q[1], q[3], q[5]\n",
        "\n",
        "    h1 = plt.figure(1)\n",
        "    plt.clf() # Clear current figure\n",
        "    plt.plot(x_arr, y_arr, 'ko-', label = 'Nodes')\n",
        "    plt.plot(x_arr[P_dist], y_arr[P_dist], 'ro-', label = 'Load Node')\n",
        "    plt.title(f't={ctime:.3f}s')\n",
        "    plt.xlabel('x (meter)')\n",
        "    plt.ylabel('y (meter)')\n",
        "    plt.axis('equal')\n",
        "    plt.legend()\n",
        "    plt.show()"
      ],
      "metadata": {
        "colab": {
          "base_uri": "https://localhost:8080/",
          "height": 472
        },
        "id": "9MZ1-nkLPYau",
        "outputId": "261b7784-5b8c-48aa-9f15-33a86cde84f5"
      },
      "execution_count": null,
      "outputs": [
        {
          "output_type": "display_data",
          "data": {
            "text/plain": [
              "<Figure size 640x480 with 1 Axes>"
            ],
            "image/png": "[encoded data removed]"
          },
          "metadata": {}
        }
      ]
    },
    {
      "cell_type": "code",
      "source": [
        "c = np.min([d, l - d])\n",
        "y_max_theoret = (P_mag * c * (l**2 - c**2)**1.5) / (9 * 3**.5 * EI * l)\n",
        "\n",
        "t_arr = np.linspace(0, totalTime, Nsteps)\n",
        "\n",
        "plt.figure(5)\n",
        "plt.plot(t_arr, all_Ymax, 'ko-', label = 'Ymax-Sim')\n",
        "plt.axhline(y = y_max_theoret, color='r', linestyle='--', linewidth=2, label = 'Ymax-Theoret')\n",
        "plt.xlabel('Time (s)')\n",
        "plt.ylabel('Min Y, Node Position (m)')\n",
        "plt.title('Ymax vs. Time')\n",
        "plt.legend()\n",
        "plt.show()\n",
        "if saveImage:\n",
        "  plt.savefig('min_y_node_position.png')"
      ],
      "metadata": {
        "colab": {
          "base_uri": "https://localhost:8080/",
          "height": 472
        },
        "id": "n1cenG6gheCf",
        "outputId": "360e303e-de62-4afd-cf92-13a49ef09570"
      },
      "execution_count": null,
      "outputs": [
        {
          "output_type": "display_data",
          "data": {
            "text/plain": [
              "<Figure size 640x480 with 1 Axes>"
            ],
            "image/png": "[encoded data removed]"
          },
          "metadata": {}
        }
      ]
    },
    {
      "cell_type": "code",
      "source": [
        "all_Ymax[Nsteps-1]"
      ],
      "metadata": {
        "colab": {
          "base_uri": "https://localhost:8080/"
        },
        "id": "Hm8R91O59fcr",
        "outputId": "b58bef58-2e2c-4121-9aff-37ec7868830e"
      },
      "execution_count": null,
      "outputs": [
        {
          "output_type": "execute_result",
          "data": {
            "text/plain": [
              "np.float64(-0.23525626521999915)"
            ]
          },
          "metadata": {},
          "execution_count": 702
        }
      ]
    },
    {
      "cell_type": "code",
      "source": [
        "y_max_theoret"
      ],
      "metadata": {
        "colab": {
          "base_uri": "https://localhost:8080/"
        },
        "id": "ArhUM3H19lme",
        "outputId": "8e57582b-71fc-4cf9-be17-a03ec6ae9a27"
      },
      "execution_count": null,
      "outputs": [
        {
          "output_type": "execute_result",
          "data": {
            "text/plain": [
              "np.float64(-0.3804491564345031)"
            ]
          },
          "metadata": {},
          "execution_count": 703
        }
      ]
    },
    {
      "cell_type": "code",
      "source": [
        "(all_Ymax[Nsteps-1] - y_max_theoret) / all_Ymax[Nsteps-1] * 100"
      ],
      "metadata": {
        "colab": {
          "base_uri": "https://localhost:8080/"
        },
        "id": "w8ZolygH-MuG",
        "outputId": "886f296e-77ae-4772-99e2-38a79f7ad9fd"
      },
      "execution_count": null,
      "outputs": [
        {
          "output_type": "execute_result",
          "data": {
            "text/plain": [
              "np.float64(-61.71690733878109)"
            ]
          },
          "metadata": {},
          "execution_count": 704
        }
      ]
    },
    {
      "cell_type": "markdown",
      "source": [
        "**Varying P Load loop**"
      ],
      "metadata": {
        "id": "-GXaY-2NH5jI"
      }
    },
    {
      "cell_type": "code",
      "source": [
        "P_min = 20\n",
        "P_max = 20000\n",
        "P_count = 20\n",
        "P_arr1 = np.linspace(P_min, P_max, num=P_count)\n",
        "P_arr = np.linspace(-P_min, -P_max, num=P_count)\n",
        "\n",
        "# Number of steps\n",
        "Nsteps = round( totalTime / dt )\n",
        "\n",
        "# Store the y-coordinate of the middle node, its velocity, and the angle\n",
        "all_Ymax = np.zeros(Nsteps)\n",
        "P_Ymax = np.zeros(P_count)\n",
        "y_max_theoret_arr = np.zeros(P_count)\n",
        "\n",
        "all_pos[0] = 0\n",
        "all_vel[0] = 0\n",
        "mid_angle[0] = 0\n",
        "\n",
        "for p_val in range(1,P_count):\n",
        "  P = P_arr[p_val]\n",
        "  y_max_theoret_arr[p_val] = (P * c * (l**2 - c**2)**1.5) / (9 * 3**.5 * EI * l)\n",
        "\n",
        "\n",
        "\n",
        "for p_val in range(1,P_count):\n",
        "  P_mag = P_arr[p_val] # N\n",
        "  P = np.zeros( 2 * nv)\n",
        "  P_dist = np.floor(d / (RodLength/nv)).astype(int)\n",
        "  P[P_dist*2+1] = P_mag # force at\n",
        "\n",
        "  # Initial conditions\n",
        "  q0 = np.zeros(2 * nv)\n",
        "  for c in range(nv):\n",
        "    q0[2*c] = nodes[c, 0] # x coordinate\n",
        "    q0[2*c+1] = nodes[c, 1] # y coordinate\n",
        "\n",
        "  u0 = np.zeros(2 * nv) # old velocity\n",
        "\n",
        "  ctime = 0 # Current time\n",
        "\n",
        "  # Loop over the time steps\n",
        "  for timeStep in range(1,Nsteps):\n",
        "\n",
        "    q_new, error = objfun(q0, u0, dt, tol, maximum_iter, m, mMat, EI, EA, W, C, P,\n",
        "                          deltaL, free_index)\n",
        "    if error < 0:\n",
        "      print('Could not converge.')\n",
        "      break\n",
        "\n",
        "    u_new = (q_new - q0) / dt # New velocity\n",
        "    ctime += dt # Update current time\n",
        "\n",
        "    all_Ymax[timeStep] = np.min(q_new)\n",
        "\n",
        "    q0 = q_new.copy() # New position becomes old position\n",
        "    u0 = u_new.copy() # New velocity becomes old velocity\n",
        "\n",
        "  P_Ymax[p_val] = np.min(all_Ymax)\n",
        "\n",
        "\n",
        "plt.figure(6)\n",
        "plt.plot(P_arr1, P_Ymax, 'ko-', label = 'Ymax-Sim')\n",
        "plt.plot(P_arr1, y_max_theoret_arr, 'ro--', label = 'Ymax-Theoret')\n",
        "plt.xlabel('Varying P Loads (N)')\n",
        "plt.ylabel('Min Y, Node Position (m)')\n",
        "plt.title('Ymax vs. Load')\n",
        "plt.legend()\n",
        "plt.show()\n",
        "if saveImage:\n",
        "  plt.savefig('minY_versus_loadP.png')\n"
      ],
      "metadata": {
        "id": "_ajtuXZplaZa",
        "colab": {
          "base_uri": "https://localhost:8080/",
          "height": 472
        },
        "outputId": "65896ded-1fcc-4992-8911-b7038f860a7e"
      },
      "execution_count": null,
      "outputs": [
        {
          "output_type": "display_data",
          "data": {
            "text/plain": [
              "<Figure size 640x480 with 1 Axes>"
            ],
            "image/png": "[encoded data removed]"
          },
          "metadata": {}
        }
      ]
    },
    {
      "cell_type": "code",
      "source": [
        "P_Ymax"
      ],
      "metadata": {
        "id": "H-J1KSx20H7F",
        "colab": {
          "base_uri": "https://localhost:8080/"
        },
        "outputId": "6f39dc0e-7428-47cc-aa29-334902286047"
      },
      "execution_count": null,
      "outputs": [
        {
          "output_type": "execute_result",
          "data": {
            "text/plain": [
              "array([ 0.        , -0.02091814, -0.04112741, -0.060736  , -0.07951021,\n",
              "       -0.09727785, -0.11393001, -0.1294152 , -0.14372888, -0.15690159,\n",
              "       -0.16898778, -0.18005643, -0.19018378, -0.19944811, -0.20792628,\n",
              "       -0.21569148, -0.22281197, -0.22935055, -0.23536435, -0.240905  ])"
            ]
          },
          "metadata": {},
          "execution_count": 706
        }
      ]
    },
    {
      "cell_type": "code",
      "source": [
        "y_max_theoret_arr"
      ],
      "metadata": {
        "colab": {
          "base_uri": "https://localhost:8080/"
        },
        "id": "QRVjczuyERXO",
        "outputId": "9f9f2a1b-3e0a-46e5-b610-7c248df9d2ba"
      },
      "execution_count": null,
      "outputs": [
        {
          "output_type": "execute_result",
          "data": {
            "text/plain": [
              "array([ 0.        , -0.02038407, -0.04038768, -0.0603913 , -0.08039491,\n",
              "       -0.10039853, -0.12040215, -0.14040576, -0.16040938, -0.18041299,\n",
              "       -0.20041661, -0.22042023, -0.24042384, -0.26042746, -0.28043108,\n",
              "       -0.30043469, -0.32043831, -0.34044192, -0.36044554, -0.38044916])"
            ]
          },
          "metadata": {},
          "execution_count": 707
        }
      ]
    },
    {
      "cell_type": "code",
      "source": [
        "P_arr1"
      ],
      "metadata": {
        "colab": {
          "base_uri": "https://localhost:8080/"
        },
        "id": "jtTGZkleHmDy",
        "outputId": "b70c98c0-197a-46bb-9d00-89e8494789c3"
      },
      "execution_count": null,
      "outputs": [
        {
          "output_type": "execute_result",
          "data": {
            "text/plain": [
              "array([   20.        ,  1071.57894737,  2123.15789474,  3174.73684211,\n",
              "        4226.31578947,  5277.89473684,  6329.47368421,  7381.05263158,\n",
              "        8432.63157895,  9484.21052632, 10535.78947368, 11587.36842105,\n",
              "       12638.94736842, 13690.52631579, 14742.10526316, 15793.68421053,\n",
              "       16845.26315789, 17896.84210526, 18948.42105263, 20000.        ])"
            ]
          },
          "metadata": {},
          "execution_count": 727
        }
      ]
    },
    {
      "cell_type": "code",
      "source": [
        "P_Ymax[0] = 1\n",
        "y_max_theoret_arr[0] = 1\n",
        "\n",
        "percent_error = (P_Ymax - y_max_theoret_arr) / P_Ymax * 100\n",
        "\n",
        "plt.figure(7)\n",
        "plt.plot(P_arr1, percent_error, 'ko-', label = 'percent error')\n",
        "plt.xlabel('Varying P Loads (N)')\n",
        "plt.ylabel('percent error (%)')\n",
        "plt.title('percent error vs. Load')\n",
        "plt.axhline(y = -10, color='r', linestyle='--', linewidth=2, label = '10% threshold')\n",
        "plt.legend()\n",
        "plt.show()"
      ],
      "metadata": {
        "colab": {
          "base_uri": "https://localhost:8080/",
          "height": 472
        },
        "id": "HsCiVuhYEyBC",
        "outputId": "eb97d8b2-e81e-4893-9154-1fcc0fdcb437"
      },
      "execution_count": null,
      "outputs": [
        {
          "output_type": "display_data",
          "data": {
            "text/plain": [
              "<Figure size 640x480 with 1 Axes>"
            ],
            "image/png": "[encoded data removed]"
          },
          "metadata": {}
        }
      ]
    },
    {
      "cell_type": "code",
      "source": [
        "# # Plot the middle node information as a function of time\n",
        "# t_arr = np.linspace(0, totalTime, Nsteps)\n",
        "\n",
        "# plt.figure(2)\n",
        "# plt.plot(t_arr, all_pos, 'ko-')\n",
        "# plt.xlabel('Time (s)')\n",
        "# plt.ylabel('Middle Node Position (m)')\n",
        "# plt.title('Middle Node Position vs. Time')\n",
        "# plt.show()\n",
        "# if saveImage:\n",
        "#   plt.savefig('middle_node_position.png')\n",
        "\n",
        "# plt.figure(3)\n",
        "# plt.plot(t_arr, all_vel, 'ko-')\n",
        "# plt.xlabel('Time (s)')\n",
        "# plt.ylabel('Middle Node Velocity (m/s)')\n",
        "# plt.title('Middle Node Velocity vs. Time')\n",
        "# plt.show()\n",
        "# if saveImage:\n",
        "#   plt.savefig('middle_node_velocity.png')\n",
        "\n",
        "# plt.figure(4)\n",
        "# plt.plot(t_arr, mid_angle, 'ko-')\n",
        "# plt.xlabel('Time (s)')\n",
        "# plt.ylabel('Turning angle (degrees)')\n",
        "# plt.title('Turning angle vs. Time')\n",
        "# plt.show()\n",
        "# if saveImage:\n",
        "#   plt.savefig('turning_angle.png')"
      ],
      "metadata": {
        "id": "VORTxq0DUlxv"
      },
      "execution_count": null,
      "outputs": []
    }
  ]
}